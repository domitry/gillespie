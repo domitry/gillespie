{
 "metadata": {
  "name": "",
  "signature": "sha256:089a3d77bb14e2419a2c14ebf57ea3ff800e83b8b904d5716e4ea6a0ef5a2d7f"
 },
 "nbformat": 3,
 "nbformat_minor": 0,
 "worksheets": [
  {
   "cells": [
    {
     "cell_type": "code",
     "collapsed": false,
     "input": [
      "%matplotlib inline"
     ],
     "language": "python",
     "metadata": {},
     "outputs": [],
     "prompt_number": 1
    },
    {
     "cell_type": "code",
     "collapsed": false,
     "input": [
      "from gillespie import *"
     ],
     "language": "python",
     "metadata": {},
     "outputs": [],
     "prompt_number": 2
    },
    {
     "cell_type": "code",
     "collapsed": false,
     "input": [
      "A = Species('A')\n",
      "B = Species('B')\n",
      "C = Species('C')\n",
      "sim = Simulator(A, B, C)"
     ],
     "language": "python",
     "metadata": {},
     "outputs": [],
     "prompt_number": 3
    },
    {
     "cell_type": "code",
     "collapsed": false,
     "input": [
      "k1=1.0\n",
      "k2=0.002\n",
      "k3=0.5\n",
      "k4=0.04"
     ],
     "language": "python",
     "metadata": {},
     "outputs": [],
     "prompt_number": 4
    },
    {
     "cell_type": "code",
     "collapsed": false,
     "input": [
      "def r1(sim):\n",
      "    sim.decrement(A, 2)\n",
      "    sim.increment(B, 1)\n",
      "def r2(sim):\n",
      "    sim.decrement(B, 1)\n",
      "    sim.increment(A, 2)\n",
      "def r3(sim):\n",
      "    sim.decrement(B, 1)\n",
      "    sim.increment(C, 1)"
     ],
     "language": "python",
     "metadata": {},
     "outputs": [],
     "prompt_number": 5
    },
    {
     "cell_type": "code",
     "collapsed": false,
     "input": [
      "sim.reaction(lambda a, b, c: k1*a, lambda sim: sim.decrement(A, 1))\n",
      "sim.reaction(lambda a, b, c: k2*a*a, r1)\n",
      "sim.reaction(lambda a, b, c: k3*b, r2)\n",
      "sim.reaction(lambda a, b, c: k4*b, r3)"
     ],
     "language": "python",
     "metadata": {},
     "outputs": [],
     "prompt_number": 6
    },
    {
     "cell_type": "code",
     "collapsed": false,
     "input": [
      "sim.increment(A, 500)"
     ],
     "language": "python",
     "metadata": {},
     "outputs": [],
     "prompt_number": 7
    },
    {
     "cell_type": "code",
     "collapsed": false,
     "input": [
      "sim.run(500)"
     ],
     "language": "python",
     "metadata": {},
     "outputs": [],
     "prompt_number": 8
    },
    {
     "cell_type": "code",
     "collapsed": false,
     "input": [
      "sim.plot()"
     ],
     "language": "python",
     "metadata": {},
     "outputs": [
      {
       "metadata": {},
       "output_type": "display_data",
       "png": "[encoded data removed]",
       "text": [
        "<matplotlib.figure.Figure at 0x7f0528f7e490>"
       ]
      }
     ],
     "prompt_number": 9
    },
    {
     "cell_type": "code",
     "collapsed": false,
     "input": [],
     "language": "python",
     "metadata": {},
     "outputs": []
    }
   ],
   "metadata": {}
  }
 ]
}